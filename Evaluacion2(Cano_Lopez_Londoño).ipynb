{
  "nbformat": 4,
  "nbformat_minor": 0,
  "metadata": {
    "colab": {
      "name": "Evaluacion2(Cano_Lopez_Londoño).ipynb",
      "provenance": [],
      "collapsed_sections": []
    },
    "kernelspec": {
      "name": "python3",
      "display_name": "Python 3"
    },
    "language_info": {
      "name": "python"
    }
  },
  "cells": [
    {
      "cell_type": "markdown",
      "metadata": {
        "id": "Rit3WBt5dTcT"
      },
      "source": [
        "\n",
        "#Evento evaluativo 2:\n",
        "\n",
        "##Nombres: \n",
        "### Estiven Cano Urrego - Daniel Lopez - Kevin Julian Londoño \n",
        "\n",
        "Para el ejercicio del crucigrama resuelva:\n",
        "\n",
        "1. Genere un CSP con las restricciones respectivas. Mínimamente debe tener restricciones sobre el cruce de palábras y el tamaño de las mismas. Por simplicidad se recomienda que cada variable corresponda a una palabra, no a una letra. Debe generar los operadores que considere necesarios para generar el CSP de forma correcta. Para que el ejercicio tenga sentido, debe agregar al dominio de cada una de las variables, además de la palabra correcta, varias palabras que puedan violar y no violar la restricción.\n",
        "\n",
        "2. Solucionar el CSP por profundidad iterativa. Analizar el comportamiento del algoritmo. Para ello se recomienda activar los elementos de control con \n",
        "visualizar\n",
        ". Concluya.\n",
        "\n",
        "3. Solucionar el CSP por arcos consistentes y división de dominio. Analizar el comportamiento del algoritmo. Para ello se recomienda activar los elementos de control con \n",
        "visualizar\n",
        ". Concluya.\n",
        "\n",
        "4. Para el método de solución por arcos consistentes y división de dominio, genere un nuevo método llamado \n",
        "varias_soluciones\n",
        ", que debe explorar más de una solución (pueden ser dos soluciones), si estas existen. Tenga en cuenta que una solución diferente puede darse si al menos una de las variables tiene una asignación diferente.\n",
        "\n",
        "5. Repita el punto tres con el nuevo método. Concluya.\n",
        "\n",
        "*No olvide comentar el código y agregar todas las funciones necesarias para que el notebook pueda funcionar de forma autónoma*"
      ]
    },
    {
      "cell_type": "markdown",
      "metadata": {
        "id": "g2622qfId2jy"
      },
      "source": [
        "#Solución\n",
        "\n",
        "##Librerias necesarias"
      ]
    },
    {
      "cell_type": "markdown",
      "metadata": {
        "id": "PqfuhoXhe-OY"
      },
      "source": [
        "### Clases para la busqueda"
      ]
    },
    {
      "cell_type": "code",
      "metadata": {
        "id": "ikxrh6UKesvp"
      },
      "source": [
        "class Problema_busqueda():\n",
        "    '''-nodo inicio\n",
        "    - función de vecinos\n",
        "    - meta (función booleana)\n",
        "    - heurística'''\n",
        "\n",
        "    def nodo_inicio(self):\n",
        "        'retorna el nodo inicio'\n",
        "        raise NotImplementedError('nodo_inicio')\n",
        "\n",
        "    def es_meta(self, nodo):\n",
        "        'retorna Verdadero si nodo es meta'\n",
        "        raise NotImplementedError('es_meta')\n",
        "\n",
        "    def heuristica(self, n):\n",
        "        'retorna la heurística para el nodo n'\n",
        "        return 0\n",
        "\n",
        "    def vecinos(self, nodo):\n",
        "        'retorna la lista de los arcos de los vecinos del nodo'\n",
        "        raise NotImplementedError('vecinos')"
      ],
      "execution_count": 42,
      "outputs": []
    },
    {
      "cell_type": "code",
      "metadata": {
        "id": "bkjbb47JeaiZ"
      },
      "source": [
        "class Arco():\n",
        "    '''- nodo saliente\n",
        "    - nodo entrante\n",
        "    - costo (no negativo)'''\n",
        "\n",
        "    def __init__(self, nodo_saliente, nodo_entrante, costo=1, accion=None):\n",
        "        assert costo >= 0, ('El costo no puede ser negativo para'\n",
        "                            + str(nodo_saliente) + ' -> ' + str(nodo_entrante))\n",
        "        self.nodo_saliente = nodo_saliente\n",
        "        self.nodo_entrante = nodo_entrante\n",
        "        self.accion = accion\n",
        "        self.costo = costo\n",
        "\n",
        "    def __repr__(self):\n",
        "        if self.accion:\n",
        "            return str(self.nodo_saliente) + ' --' + str(self.accion) + ',' + str(self.costo) + '-> ' + str(\n",
        "                self.nodo_entrante)\n",
        "        else:\n",
        "            return str(self.nodo_saliente) + ' --' + str(self.costo) + '-> ' + str(self.nodo_entrante)"
      ],
      "execution_count": 43,
      "outputs": []
    },
    {
      "cell_type": "code",
      "metadata": {
        "id": "Yu5huPeDryGv"
      },
      "source": [
        "class Camino():\n",
        "\n",
        "    def __init__(self, inicial, arco=None):\n",
        "        '''inicial puede ser un nodo o un camino'''\n",
        "        self.inicial = inicial\n",
        "        self.arco = arco\n",
        "        if arco is None:\n",
        "            self.costo = 0\n",
        "        else:\n",
        "            self.costo = inicial.costo + arco.costo\n",
        "\n",
        "    def fin(self):\n",
        "        '''retorna el nodo final del camino'''\n",
        "        if self.arco is None:\n",
        "            return self.inicial\n",
        "        else:\n",
        "            return self.arco.nodo_entrante  # retorna el nodo entrante del último arco\n",
        "\n",
        "    def nodos(self):\n",
        "        '''retorna los nodos del caimno de atrás hacia adelante'''\n",
        "        actual = self\n",
        "        while actual.arco is not None:\n",
        "            yield actual.arco.nodo_entrante\n",
        "            actual = actual.inicial\n",
        "        yield actual.inicial\n",
        "\n",
        "    def nodos_iniciales(self):\n",
        "        '''retorna todos los nodos antes del nodo final'''\n",
        "        if self.arco is not None:\n",
        "            for nd in self.inicial.nodos(): yield nd\n",
        "\n",
        "    def __repr__(self):\n",
        "        if self.arco is None:\n",
        "            return str(self.inicial)\n",
        "        elif self.arco.accion:\n",
        "            return (str(self.inicial) + \"\\n --\" + str(self.arco.accion) + \" --> \" + str(self.arco.nodo_entrante))\n",
        "        else:\n",
        "            return (str(self.inicial) + \"\\n ----> \" + str(self.arco.nodo_entrante))\n"
      ],
      "execution_count": 44,
      "outputs": []
    },
    {
      "cell_type": "code",
      "metadata": {
        "id": "-ODCcdKpdEys"
      },
      "source": [
        "class Visualizable():\n",
        "    '''controla la cantidad de detalles por el nivel max_nivel_visual'''\n",
        "    max_nivel_visual = 1\n",
        "\n",
        "    def visualizar(self, nivel, *args, **nargs):\n",
        "        if nivel <= self.max_nivel_visual:\n",
        "            print(*args, **nargs)"
      ],
      "execution_count": 45,
      "outputs": []
    },
    {
      "cell_type": "code",
      "metadata": {
        "id": "RKEzBWFCefyZ"
      },
      "source": [
        "class Buscador(Visualizable):\n",
        "    '''retorna un buscador para un problema.\n",
        "    Los caminos se pueden encontrar llamando repetidamente \"buscar()\"'''\n",
        "\n",
        "    def __init__(self, problema):\n",
        "        '''crea un buscador para el problema'''\n",
        "        self.problema = problema\n",
        "        self.inicializar_frontera()\n",
        "        self.num_expansion = 0\n",
        "        self.agregar_a_frontera(Camino(problema.nodo_inicio()))\n",
        "        super().__init__()  # llama los atributos de la clase padre sin tener que conocer el nombre de la misma\n",
        "\n",
        "    def inicializar_frontera(self):\n",
        "        self.frontera = []\n",
        "\n",
        "    def frontera_vacia(self):\n",
        "        return self.frontera == []\n",
        "\n",
        "    def agregar_a_frontera(self, camino):\n",
        "        self.frontera.append(camino)\n",
        "\n",
        "    # @visualizacion #decorador para modificar o replantear una función ya existente\n",
        "    def buscar_profundidad(self):\n",
        "        '''retorna el (siguiente) camino para el nodo inicio del problema\n",
        "        al nodo meta. Retorna None si no existe el camino'''\n",
        "        while not self.frontera_vacia():\n",
        "            camino = self.frontera.pop()\n",
        "            self.visualizar(3, \"Expandiendo :\", camino, \"(costo: \", camino.costo, \")\")\n",
        "            self.num_expansion += 1\n",
        "            if self.problema.es_meta(camino.fin()):  # se encontró la solución\n",
        "                self.visualizar(3, self.num_expansion,\n",
        "                                \"caminos se han expandido y quedan \",\n",
        "                                len(self.frontera), \"caminos en la frontera\")\n",
        "                return camino\n",
        "            else:\n",
        "                vecis = self.problema.vecinos(camino.fin())\n",
        "                self.visualizar(3, \"Los vecinos son\", vecis)\n",
        "                for arco in reversed(list(vecis)):\n",
        "                    self.agregar_a_frontera(Camino(camino, arco))\n",
        "                self.visualizar(3, \"Frontera\", self.frontera)\n",
        "            self.visualizar(3, \"No hay más soluciones. Se expandieron un total de \",\n",
        "                            self.num_expansion, \"caminos\")\n",
        "\n",
        "    def buscar_anchura(self):\n",
        "        '''retorna el (siguiente) camino para el nodo inicio del problema\n",
        "        al nodo meta. Retorna None si no existe el camino'''\n",
        "        while not self.frontera_vacia():\n",
        "            camino = self.frontera.pop(0)\n",
        "            self.visualizar(3, \"Expandiendo :\", camino, \"(costo: \", camino.costo, \")\")\n",
        "            self.num_expansion += 1\n",
        "            if self.problema.es_meta(camino.fin()):  # se encontró la solución\n",
        "                self.visualizar(3, self.num_expansion,\n",
        "                                \"caminos se han expandido y quedan \",\n",
        "                                len(self.frontera), \"caminos en la frontera\")\n",
        "                return camino\n",
        "            else:\n",
        "                vecis = self.problema.vecinos(camino.fin())\n",
        "                self.visualizar(3, \"Los vecinos son\", vecis)\n",
        "                for arco in list(vecis):\n",
        "                    self.agregar_a_frontera(Camino(camino, arco))\n",
        "                self.visualizar(3, \"Frontera\", self.frontera)\n",
        "            self.visualizar(3, \"No hay más soluciones. Se expandieron un total de \",\n",
        "                            self.num_expansion, \"caminos\")\n",
        "            "
      ],
      "execution_count": 46,
      "outputs": []
    },
    {
      "cell_type": "markdown",
      "metadata": {
        "id": "Y-Ews7qofT7o"
      },
      "source": [
        "##Clases y funciones para CSP"
      ]
    },
    {
      "cell_type": "code",
      "metadata": {
        "id": "ARCp9chSfiuA"
      },
      "source": [
        "class Restriccion():\n",
        "    '''Una restricción consiste de:\n",
        "    - alcance: tupla o lista de variables\n",
        "    - condición: una función que puede ser aplicada a una tupla de valores para las variables.\n",
        "    Debe ser una función Booleana'''\n",
        "\n",
        "    def __init__(self, alcance, condicion):\n",
        "        self.alcance = alcance\n",
        "        self.condicion = condicion\n",
        "\n",
        "    def __repr__(self):\n",
        "        return self.condicion.__name__  # + str(self.condicion)\n",
        "\n",
        "    def holds(self, asignacion):\n",
        "        '''retorna el valor de la restricción evaluada en la asignación'''\n",
        "        return self.condicion(*tuple(asignacion[v] for v in self.alcance))"
      ],
      "execution_count": 47,
      "outputs": []
    },
    {
      "cell_type": "markdown",
      "metadata": {
        "id": "uZWRXPDBf3E-"
      },
      "source": [
        "###Funciones usadas en las restricciones\n"
      ]
    },
    {
      "cell_type": "code",
      "metadata": {
        "id": "zbiCFyxqf9QJ"
      },
      "source": [
        "'''Función que valida si la variable tiene la misma longitud que la pasada por parámetro'''\n",
        "def numCaracteres(valor):\n",
        "    noes_valor = lambda x: len(x) == valor\n",
        "    return noes_valor"
      ],
      "execution_count": 48,
      "outputs": []
    },
    {
      "cell_type": "code",
      "metadata": {
        "id": "vaydPmxdg5L2"
      },
      "source": [
        "'''Función para asignar las posiciones en las que las variables deben encontrarse'''\n",
        "def seEncuentran(valor1, valor2):\n",
        "    noes_valor = lambda x, y: x[valor1] == y[valor2]\n",
        "    return noes_valor"
      ],
      "execution_count": 49,
      "outputs": []
    },
    {
      "cell_type": "code",
      "metadata": {
        "id": "ZEGlumQorecF"
      },
      "source": [
        "def union_diccionarios(d1,d2):\n",
        "    '''retorna un diccionario que contiene las claves de d1 y d2.\n",
        "    El valor de cada clave que está en d2 es el valor de d2, de otra forma\n",
        "    es el valor de d1'''\n",
        "    d = dict(d1) #copia d1\n",
        "    d.update(d2)\n",
        "    return d\n"
      ],
      "execution_count": 50,
      "outputs": []
    },
    {
      "cell_type": "code",
      "metadata": {
        "id": "PyIZfrp7rLNl"
      },
      "source": [
        "class CSP:\n",
        "    '''Un CSP requiere:\n",
        "    - dominios : un diccionario que mapea las variables al conjunto de posibles valores.\n",
        "    dominio[var] es el dominio de la variable var.\n",
        "     - restricciones: conjunto o lista de objetos de clase Restricción'''\n",
        "\n",
        "    def __init__(self, dominios, restricciones) -> object:\n",
        "        self.variables = set(dominios)\n",
        "        self.dominios = dominios\n",
        "        self.restricciones = restricciones\n",
        "        self.variables_a_restricciones = {var: set() for var in self.variables}\n",
        "        for con in restricciones:\n",
        "            for var in con.alcance:\n",
        "                self.variables_a_restricciones[var].add(con)\n",
        "\n",
        "    def __str__(self):\n",
        "        '''representación del CSP'''\n",
        "        return str(self.dominios)\n",
        "\n",
        "    def __repr__(self):\n",
        "        '''representación más detallada del CSP'''\n",
        "        return \"CSP( \" + str(self.dominios) + \" , \" + str([str(c) for c in self.restricciones]) + \" )\"\n",
        "\n",
        "    def consistencia(self, asignacion):\n",
        "        '''asignación es variable: valor diccionario\n",
        "        retorna Verdadero si todas las restricciones que pueden ser evaluadas, son evaluadas\n",
        "        verdaderas dada una asignación'''\n",
        "        return all(con.holds(asignacion) for con in self.restricciones if all(v in asignacion for v in con.alcance))\n",
        "\n"
      ],
      "execution_count": 51,
      "outputs": []
    },
    {
      "cell_type": "code",
      "metadata": {
        "id": "ZKG-J9m5rWnt"
      },
      "source": [
        "class Busqueda_CSP(Problema_busqueda):\n",
        "    '''Un nodo es variable: valor diccionario'''\n",
        "\n",
        "    def __init__(self, csp, orden_variable=None):\n",
        "        self.csp = csp\n",
        "        if orden_variable:\n",
        "            assert set(orden_variable) == set(csp.variables)\n",
        "            assert len(orden_variable) == len(csp.variables)\n",
        "            self.variables = orden_variable\n",
        "        else:\n",
        "            self.variables = list(csp.variables)\n",
        "\n",
        "    def es_meta(self, nodo):\n",
        "        return len(nodo) == len(self.csp.variables)\n",
        "\n",
        "    def nodo_inicio(self):\n",
        "        return {}\n",
        "\n",
        "    def vecinos(self, nodo):\n",
        "        ''''este método usa el hecho de que la longitud del nodo, que es el número de variables\n",
        "        asignadas, es el índice de la siguiente variable para hacer la división del grafo.\n",
        "        Note que no se necesita revisar si hay más variables para hacer la división,\n",
        "        dado que todos los nodos son consistentes por construcción y que no se tienen\n",
        "        más variables  si hay una solución'''\n",
        "\n",
        "        var = self.variables[len(nodo)]  # la siguiente variable\n",
        "        res = []\n",
        "        for val in self.csp.dominios[var]:\n",
        "            nuevo = union_diccionarios(nodo, {var: val})\n",
        "            if self.csp.consistencia(nuevo):\n",
        "                res.append(Arco(nodo, nuevo))\n",
        "        return res\n"
      ],
      "execution_count": 52,
      "outputs": []
    },
    {
      "cell_type": "markdown",
      "metadata": {
        "id": "wLCXwp_Dm76h"
      },
      "source": [
        "Iniciamos una lista para las posibles soluciones"
      ]
    },
    {
      "cell_type": "code",
      "metadata": {
        "id": "RyMhId97m_74"
      },
      "source": [
        "soluciones =[]"
      ],
      "execution_count": 53,
      "outputs": []
    },
    {
      "cell_type": "markdown",
      "metadata": {
        "id": "MWXHD8uRl3DR"
      },
      "source": [
        "#Clase Solucionador_consistencia\n",
        "### \"Dentro se encuentran las funciones para una y varias soluciones\""
      ]
    },
    {
      "cell_type": "code",
      "metadata": {
        "id": "MlU_dwHMl0hx"
      },
      "source": [
        "class Solucionador_consistencia(Visualizable):\n",
        "    '''Soluciona un CSP con consistencia de arco y división de dominio'''\n",
        "\n",
        "    def __init__(self, csp, **kwargs):\n",
        "        self.csp = csp\n",
        "        super().__init__(**kwargs)\n",
        "\n",
        "    def hacer_arcos_consistentes(self, dominios_originales=None, para_revisar=None):\n",
        "        '''Hace que el CSP sea de arcos consistentes. dominios_originales son los dominios originales del CSP\n",
        "        para_revisar es un conjunto de pares (variable, restriccion)'''\n",
        "\n",
        "        if dominios_originales is None:\n",
        "            dominios_originales = self.csp.dominios\n",
        "        if para_revisar is None:\n",
        "            para_revisar = {(variable, restriccion) for restriccion in self.csp.restricciones for variable in\n",
        "                            restriccion.alcance}\n",
        "        else:\n",
        "            para_revisar = para_revisar.copy()\n",
        "        dominios = dominios_originales.copy()\n",
        "        self.visualizar(2, 'Realizando AC con dominios: ', dominios)\n",
        "        while para_revisar:\n",
        "            variable, restriccion = self.seleccionar_arco(para_revisar)\n",
        "            self.visualizar(3, 'Procesando arco ( ', variable, ',', restriccion, ')')\n",
        "            otras_variables = [otras for otras in restriccion.alcance if otras != variable]\n",
        "            nuevo_dominio = {valor for valor in dominios[variable] if\n",
        "                             self.se_mantiene(dominios, restriccion, {variable: valor},\n",
        "                                              otras_variables)}\n",
        "            if nuevo_dominio != dominios[variable]:\n",
        "                self.visualizar(4, 'El arco : (', variable, ',', restriccion, ') es inconsistente')\n",
        "                self.visualizar(3, 'Hay poda de dominio ', 'dominio(', variable, ')=', nuevo_dominio, ' debido a ',\n",
        "                                restriccion)\n",
        "                dominios[variable] = nuevo_dominio\n",
        "                agregar_para_revisar = self.nuevo_para_revisar(variable, restriccion) - para_revisar\n",
        "                para_revisar - agregar_para_revisar  # unión de conjuntos\n",
        "                self.visualizar(3, ' agregando ', agregar_para_revisar if agregar_para_revisar else \"nada\",\n",
        "                                ' para revisar')\n",
        "            self.visualizar(4, \"El arco (\", variable, ',', restriccion, \") ahora es consistente\")\n",
        "        self.visualizar(2, 'Consistencia de arcos terminada. Dominios reducidos ', dominios)\n",
        "        return dominios\n",
        "\n",
        "    def nuevo_para_revisar(self, variable, restriccion):\n",
        "        '''retorna nuevos elementos para agregar a para_revisar después de asignar variable en restriccion'''\n",
        "        return {(nvariable, nrestriccion) for nrestriccion in self.csp.variables_a_restricciones[variable]\n",
        "                if nrestriccion != restriccion\n",
        "                for nvariable in nrestriccion.alcance\n",
        "                if nvariable != variable}\n",
        "\n",
        "    def seleccionar_arco(self, para_revisar):\n",
        "        '''selecciona el arco del conjunto para_revisar, donde un arco es un par (variable, restriccion).\n",
        "        El arco seleccionado debe ser removido del conjunto para_revisar'''\n",
        "        return para_revisar.pop()\n",
        "\n",
        "    def se_mantiene(self, dominios, restriccion, asignacion, otras_variables, ind=0):\n",
        "        '''retorna Verdadero si restriccion se mantiene para una asignacion que se extiene con las variables en otras_variables[ind:]\n",
        "        asignacion es un diccionario.'''\n",
        "        if ind == len(otras_variables):\n",
        "            return restriccion.holds(asignacion)\n",
        "        else:\n",
        "            variable = otras_variables[ind]\n",
        "            for valor in dominios[variable]:\n",
        "                asignacion[variable] = valor\n",
        "                if self.se_mantiene(dominios, restriccion, asignacion, otras_variables, ind + 1):\n",
        "                    return True\n",
        "            return False\n",
        "\n",
        "    def una_solucion(self, dominios=None, para_revisar=None):\n",
        "        '''retorna una solución al CSP actual o retorna Falso si no hay soluciones. para_revisar es un conjunto de arcos que se deben revisar'''\n",
        "        if dominios is None:\n",
        "            dominios = self.csp.dominios\n",
        "        nuevos_dominios = self.hacer_arcos_consistentes(dominios, para_revisar)\n",
        "        if any(len(nuevos_dominios[variable]) == 0 for variable in\n",
        "               dominios):  # alguna variable no tiene elementos en el dominio\n",
        "            return False\n",
        "        elif all(len(nuevos_dominios[variable]) == 1 for variable in dominios):  # ya se tiene una solución\n",
        "            self.visualizar(2, \"solución: \",\n",
        "                            {variable: seleccionar(nuevos_dominios[variable]) for variable in nuevos_dominios})\n",
        "            return {variable: seleccionar(nuevos_dominios[variable]) for variable in dominios}\n",
        "        else:\n",
        "            variable = self.seleccionar_variable(x for x in self.csp.variables if len(nuevos_dominios[x]) > 1)\n",
        "            if variable:\n",
        "                dominio1, dominio2 = particion_dominio(nuevos_dominios[variable])\n",
        "                self.visualizar(2, \"...particionando \", variable, \" en \", dominio1, \" y \", dominio2)\n",
        "                nuevos_dominios1 = copiar_con_asignacion(nuevos_dominios, variable, dominio1)\n",
        "                nuevos_dominios2 = copiar_con_asignacion(nuevos_dominios, variable, dominio2)\n",
        "                para_revisar = self.nuevo_para_revisar(variable, None)\n",
        "                self.visualizar(3, ' agregando ', para_revisar if para_revisar else \" nada \", \" para revisar \")\n",
        "                return self.una_solucion(nuevos_dominios1, para_revisar) or self.una_solucion(nuevos_dominios2,\n",
        "                                                                                              para_revisar)\n",
        "    '''Función para encontrar las posibles soluciones de un CSP'''\n",
        "    def varias_soluciones(self, dominios=None, para_revisar=None):\n",
        "        '''Retorna las soluciones del CSP actual o retorna Falso si no hay soluciones.\n",
        "        para_revisar es un conjunto de arcos que se deben resivarsa'''\n",
        "        if dominios is None:\n",
        "            dominios = self.csp.dominios\n",
        "        nuevos_dominios = self.hacer_arcos_consistentes(dominios, para_revisar)\n",
        "        if any(len(nuevos_dominios[variable]) == 0 for variable in\n",
        "               dominios):  # Significa que alguna variable no tiene elementos en su dominio\n",
        "            return False\n",
        "        elif all(len(nuevos_dominios[variable]) == 1 for variable in dominios):\n",
        "            # Se encontró una solución y se añade a la lista de soluciones\n",
        "            soluciones.append({variable: seleccionar(nuevos_dominios[variable]) for variable in nuevos_dominios})\n",
        "        else:\n",
        "            variable = self.seleccionar_variable(x for x in self.csp.variables if len(nuevos_dominios[x]) > 1)\n",
        "            if variable:\n",
        "                dominio1, dominio2 = particion_dominio(nuevos_dominios[variable])\n",
        "                self.visualizar(2, \"...particionando \", variable, \" en \", dominio1, \" y \", dominio2)\n",
        "                nuevos_dominios1 = copiar_con_asignacion(nuevos_dominios, variable, dominio1)\n",
        "                nuevos_dominios2 = copiar_con_asignacion(nuevos_dominios, variable, dominio2)\n",
        "                para_revisar = self.nuevo_para_revisar(variable, None)\n",
        "                self.visualizar(3, ' agregando ', para_revisar if para_revisar else \" nada \", \" para revisar \")\n",
        "                return self.varias_soluciones(nuevos_dominios1, para_revisar) or self.varias_soluciones(\n",
        "                    nuevos_dominios2,\n",
        "                    para_revisar)\n",
        "\n",
        "    def seleccionar_variable(self, siguiente_variable):\n",
        "        '''retorna la siguiente variable para hacer la división'''\n",
        "        return seleccionar(siguiente_variable)\n",
        "\n",
        "\n",
        "def particion_dominio(dominio):\n",
        "    '''partición del dominio en dos'''\n",
        "    dividir = len(dominio) // 2\n",
        "    dominio1 = set(list(dominio)[:dividir])\n",
        "    dominio2 = dominio - dominio1\n",
        "    return dominio1, dominio2\n",
        "\n",
        "\n",
        "def copiar_con_asignacion(dominios, variable=None, nuevo_dominio={True, False}):\n",
        "    '''crea una copia de los dominios con asignación variable = nuevo_dominio. Si variable = None quiere decir que solo es una copia'''\n",
        "    nuevosdominios = dominios.copy()\n",
        "    if variable is not None:\n",
        "        nuevosdominios[variable] = nuevo_dominio\n",
        "    return nuevosdominios\n",
        "\n",
        "\n",
        "def seleccionar(iterable):\n",
        "    '''selecciona un elemento de iterable, retorna None si no existe dicho elemento.'''\n",
        "    for e in iterable:\n",
        "        return e\n"
      ],
      "execution_count": 54,
      "outputs": []
    },
    {
      "cell_type": "markdown",
      "metadata": {
        "id": "nIADAaUSnr_I"
      },
      "source": [
        "## Punto 1 - Creación del CSP"
      ]
    },
    {
      "cell_type": "code",
      "metadata": {
        "id": "mZJqlYMFlsaK"
      },
      "source": [
        "csp_crucigrama = CSP({'1': {'ITERATIVA', 'HISTORIAL', 'DELICIOSO', 'PELIGROSO'},\n",
        "                      '2': {'VORAZ', 'SOBARA', 'ROBA', 'LABORAR'},\n",
        "                      '3_h': {'ILUSTRATIVA', 'AESTRELLA', 'DELICIOSA', 'PELIGROSA'},\n",
        "                      '3_v': {'ADVERSO', 'ANCHURA', 'ARTEMISA', 'EFECTOS'},\n",
        "                      '4': {'ACOGIENDOSE', 'PROFUNDIDAD', 'COMUNIDADES', 'PROCRASTIAR'},\n",
        "                      '5': {'TODO', 'ARCO', 'BARCO', 'OCRA'},\n",
        "                      '6': {'COLINO', 'CAMINO', 'COMINO', 'CAMINOS'},\n",
        "                      '7': {'NORTE', 'MONO', 'NODO', 'ODIN'}\n",
        "                      },\n",
        "                     [\n",
        "                         Restriccion('1', numCaracteres(9)),\n",
        "                         Restriccion('2', numCaracteres(5)),\n",
        "                         Restriccion(('3_h',), numCaracteres(9)),\n",
        "                         Restriccion(('3_v',), numCaracteres(7)),\n",
        "                         Restriccion('4', numCaracteres(11)),\n",
        "                         Restriccion('5', numCaracteres(4)),\n",
        "                         Restriccion('6', numCaracteres(6)),\n",
        "                         Restriccion('7', numCaracteres(4)),\n",
        "                         Restriccion(('1', '3_h'), seEncuentran(1, 3)),\n",
        "                         Restriccion(('3_v', '3_h'), seEncuentran(0, 0)),\n",
        "                         Restriccion(('1', '4'), seEncuentran(3, 1)),\n",
        "                         Restriccion(('1', '3_h'), seEncuentran(1, 3)),\n",
        "                         Restriccion(('1', '6'), seEncuentran(8, 1)),\n",
        "                         Restriccion(('6', '7'), seEncuentran(4, 0)),\n",
        "                         Restriccion(('6', '5'), seEncuentran(5, 3)),\n",
        "                         Restriccion(('4', '2'), seEncuentran(9, 3))]\n",
        "                     )"
      ],
      "execution_count": 55,
      "outputs": []
    },
    {
      "cell_type": "markdown",
      "metadata": {
        "id": "dN5DujNun5r_"
      },
      "source": [
        "##Punto 2 - Busqueda por profundidad iterativa"
      ]
    },
    {
      "cell_type": "code",
      "metadata": {
        "colab": {
          "base_uri": "https://localhost:8080/"
        },
        "id": "MR9UhG50n5O_",
        "outputId": "48a58cbd-79af-482f-fe36-ecfbe2c5c4ea"
      },
      "source": [
        "print(Buscador(Busqueda_CSP(csp_crucigrama)).buscar_profundidad())"
      ],
      "execution_count": 56,
      "outputs": [
        {
          "output_type": "stream",
          "text": [
            "{}\n",
            " ----> {'6': 'CAMINO'}\n",
            " ----> {'6': 'CAMINO', '3_v': 'ANCHURA'}\n",
            " ----> {'6': 'CAMINO', '3_v': 'ANCHURA', '2': 'VORAZ'}\n",
            " ----> {'6': 'CAMINO', '3_v': 'ANCHURA', '2': 'VORAZ', '4': 'PROFUNDIDAD'}\n",
            " ----> {'6': 'CAMINO', '3_v': 'ANCHURA', '2': 'VORAZ', '4': 'PROFUNDIDAD', '7': 'NODO'}\n",
            " ----> {'6': 'CAMINO', '3_v': 'ANCHURA', '2': 'VORAZ', '4': 'PROFUNDIDAD', '7': 'NODO', '3_h': 'AESTRELLA'}\n",
            " ----> {'6': 'CAMINO', '3_v': 'ANCHURA', '2': 'VORAZ', '4': 'PROFUNDIDAD', '7': 'NODO', '3_h': 'AESTRELLA', '1': 'ITERATIVA'}\n",
            " ----> {'6': 'CAMINO', '3_v': 'ANCHURA', '2': 'VORAZ', '4': 'PROFUNDIDAD', '7': 'NODO', '3_h': 'AESTRELLA', '1': 'ITERATIVA', '5': 'TODO'}\n"
          ],
          "name": "stdout"
        }
      ]
    },
    {
      "cell_type": "markdown",
      "metadata": {
        "id": "FMTMcNuUoKwn"
      },
      "source": [
        "##Punto 3 - Busqueda por arcos consistentes y división de dominio (Una solución)"
      ]
    },
    {
      "cell_type": "code",
      "metadata": {
        "colab": {
          "base_uri": "https://localhost:8080/"
        },
        "id": "T74JJgMaohJP",
        "outputId": "a479f683-1636-45c4-b092-e36fc62b70ab"
      },
      "source": [
        "print(Solucionador_consistencia(csp_crucigrama).una_solucion())"
      ],
      "execution_count": 57,
      "outputs": [
        {
          "output_type": "stream",
          "text": [
            "{'1': 'ITERATIVA', '2': 'VORAZ', '3_h': 'AESTRELLA', '3_v': 'ANCHURA', '4': 'PROFUNDIDAD', '5': 'TODO', '6': 'CAMINO', '7': 'NODO'}\n"
          ],
          "name": "stdout"
        }
      ]
    },
    {
      "cell_type": "markdown",
      "metadata": {
        "id": "xcoFBoUxp5Ct"
      },
      "source": [
        "##Punto 4 - Creación del método. \n",
        "La función se encuentra dentro de la clase 'Solucionador_consistencia' con el nombre de 'varias_soluciones'"
      ]
    },
    {
      "cell_type": "markdown",
      "metadata": {
        "id": "Jc6nfgK8qpiW"
      },
      "source": [
        "##Punto 5 - Busqueda por arcos consistentes y división de dominio (Varias soluciones)"
      ]
    },
    {
      "cell_type": "code",
      "metadata": {
        "colab": {
          "base_uri": "https://localhost:8080/"
        },
        "id": "bg7pCdXbq2Su",
        "outputId": "31e6339c-4db0-4cda-cfa3-7737eaeb341f"
      },
      "source": [
        "'''Se llama al metodo varias_soluciones para llenar la lista de las posibles soluciones'''\n",
        "Solucionador_consistencia(csp_crucigrama).varias_soluciones()\n",
        "cont = 0\n",
        "for i in soluciones:\n",
        "    cont = cont + 1\n",
        "    print(\"Solución \", cont, \": \", i)\n"
      ],
      "execution_count": 58,
      "outputs": [
        {
          "output_type": "stream",
          "text": [
            "Solución  1 :  {'1': 'ITERATIVA', '2': 'VORAZ', '3_h': 'AESTRELLA', '3_v': 'ANCHURA', '4': 'PROFUNDIDAD', '5': 'TODO', '6': 'CAMINO', '7': 'NODO'}\n",
            "Solución  2 :  {'1': 'ITERATIVA', '2': 'VORAZ', '3_h': 'AESTRELLA', '3_v': 'ANCHURA', '4': 'PROFUNDIDAD', '5': 'ARCO', '6': 'CAMINO', '7': 'NODO'}\n",
            "Solución  3 :  {'1': 'ITERATIVA', '2': 'VORAZ', '3_h': 'AESTRELLA', '3_v': 'ANCHURA', '4': 'PROCRASTIAR', '5': 'TODO', '6': 'CAMINO', '7': 'NODO'}\n",
            "Solución  4 :  {'1': 'ITERATIVA', '2': 'VORAZ', '3_h': 'AESTRELLA', '3_v': 'ANCHURA', '4': 'PROCRASTIAR', '5': 'ARCO', '6': 'CAMINO', '7': 'NODO'}\n",
            "Solución  5 :  {'1': 'ITERATIVA', '2': 'VORAZ', '3_h': 'AESTRELLA', '3_v': 'ADVERSO', '4': 'PROFUNDIDAD', '5': 'TODO', '6': 'CAMINO', '7': 'NODO'}\n",
            "Solución  6 :  {'1': 'ITERATIVA', '2': 'VORAZ', '3_h': 'AESTRELLA', '3_v': 'ADVERSO', '4': 'PROFUNDIDAD', '5': 'ARCO', '6': 'CAMINO', '7': 'NODO'}\n",
            "Solución  7 :  {'1': 'ITERATIVA', '2': 'VORAZ', '3_h': 'AESTRELLA', '3_v': 'ADVERSO', '4': 'PROCRASTIAR', '5': 'TODO', '6': 'CAMINO', '7': 'NODO'}\n",
            "Solución  8 :  {'1': 'ITERATIVA', '2': 'VORAZ', '3_h': 'AESTRELLA', '3_v': 'ADVERSO', '4': 'PROCRASTIAR', '5': 'ARCO', '6': 'CAMINO', '7': 'NODO'}\n"
          ],
          "name": "stdout"
        }
      ]
    }
  ]
}